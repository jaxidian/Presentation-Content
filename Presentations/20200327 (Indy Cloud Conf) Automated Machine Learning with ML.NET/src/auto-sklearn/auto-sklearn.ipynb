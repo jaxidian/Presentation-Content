{
  "cells": [
    {
      "cell_type": "markdown",
      "metadata": {
        "collapsed": true
      },
      "outputs": [],
      "source": [
        "# auto-sklearn\n",
        "\n",
        "- <https://github.com/automl/auto-sklearn>\n",
        "- <https://automl.github.io/auto-sklearn/master/>\n",
        "- NOTE: This only runs on *nix systems at this time.\n",
        "- More information here: <https://automl.github.io/auto-sklearn/master/installation.html#windows-osx-compatibility>\n",
        "- WSL tips here: <https://gist.github.com/kauffmanes/5e74916617f9993bc3479f401dfec7da>\n",
        "\n",
        "> auto-sklearn frees a machine learning user from algorithm selection and hyperparameter tuning. It leverages recent advantages in Bayesian optimization, meta-learning and ensemble construction. Learn more about the technology behind auto-sklearn by reading our paper published at [NIPS 2015](http://papers.nips.cc/paper/5872-efficient-and-robust-automated-machine-learning.pdf).\n"
      ]
    },
    {
      "cell_type": "code",
      "metadata": {},
      "outputs": [],
      "source": [
        "%%time\n",
        "#!pip uninstall -y scikit-image azureml-train-automl azureml-opendatasets azureml-automl-core\n",
        "!conda install gxx_linux-64 gcc_linux-64 swig --yes\n",
        "!pip install pyrfr auto-sklearn\n",
        "\n",
        "import autosklearn.classification\n",
        "import sklearn.cross_validation\n",
        "import sklearn.datasets\n",
        "import sklearn.metrics\n",
        "import json"
      ]
    },
    {
      "cell_type": "code",
      "metadata": {},
      "outputs": [],
      "source": [
        "digits = sklearn.datasets.load_digits()\n",
        "#training_features, testing_features, training_target, testing_target\n",
        "X_train, X_test, y_train, y_test = sklearn.cross_validation.train_test_split(\n",
        "    digits.data, digits.target, random_state=1,\n",
        "    train_size=0.05, test_size=0.25)\n",
        "#    train_size=0.75, test_size=0.25)"
      ]
    },
    {
      "cell_type": "code",
      "metadata": {},
      "outputs": [],
      "source": [
        "automl = autosklearn.classification.AutoSklearnClassifier(time_left_for_this_task=30) # time in seconds\n",
        "automl.fit(X_train, y_train)"
      ]
    },
    {
      "cell_type": "markdown",
      "metadata": {},
      "outputs": [],
      "source": [
        "- [\"No models better than random\" can be ignored if it only shows up at the beginning of training.](https://github.com/automl/auto-sklearn/issues/512)\n",
        "- [\"Mean of empty slice\" warnings can be ignored](https://stackoverflow.com/questions/29688168/mean-nanmean-and-warning-mean-of-empty-slice)"
      ]
    },
    {
      "cell_type": "code",
      "metadata": {},
      "outputs": [],
      "source": [
        "# y_hat = ŷ = \"predicted value of y in statistics equations\"\n",
        "y_hat = automl.predict(X_test)\n",
        "\n",
        "print(\"Accuracy score\", sklearn.metrics.accuracy_score(y_test, y_hat))"
      ]
    },
    {
      "cell_type": "code",
      "metadata": {},
      "outputs": [],
      "source": [
        "print(automl.show_models())"
      ]
    }
  ],
  "metadata": {
    "kernelspec": {
      "name": "python36",
      "display_name": "Python 3.6",
      "language": "python"
    },
    "language_info": {
      "mimetype": "text/x-python",
      "nbconvert_exporter": "python",
      "name": "python",
      "pygments_lexer": "ipython3",
      "version": "3.7.5",
      "file_extension": ".py",
      "codemirror_mode": {
        "version": 3,
        "name": "ipython"
      }
    }
  },
  "nbformat": 4,
  "nbformat_minor": 2
}